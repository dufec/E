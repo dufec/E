{
  "nbformat": 4,
  "nbformat_minor": 0,
  "metadata": {
    "colab": {
      "provenance": [],
      "authorship_tag": "ABX9TyNHo4YTSdPfMCdemZIvtMRY",
      "include_colab_link": true
    },
    "kernelspec": {
      "name": "python3",
      "display_name": "Python 3"
    },
    "language_info": {
      "name": "python"
    }
  },
  "cells": [
    {
      "cell_type": "markdown",
      "metadata": {
        "id": "view-in-github",
        "colab_type": "text"
      },
      "source": [
        "<a href=\"https://colab.research.google.com/github/dufec/E/blob/main/%D0%92%D0%B8%D0%BA%D1%83%D0%BB%D0%BE%D0%B2_%D0%91%D0%98%D0%9A_2_%D0%9B%D0%A03.ipynb\" target=\"_parent\"><img src=\"https://colab.research.google.com/assets/colab-badge.svg\" alt=\"Open In Colab\"/></a>"
      ]
    },
    {
      "cell_type": "code",
      "source": [
        "a = input(\"Набор символов, последовательности разделить запятыми: \")\n",
        "b = a.split(',')\n",
        "print(len(b[1]))\n"
      ],
      "metadata": {
        "id": "D-Rblu1qNQxk",
        "outputId": "08092e40-0f1c-44a6-b7e7-338006210110",
        "colab": {
          "base_uri": "https://localhost:8080/"
        }
      },
      "execution_count": 33,
      "outputs": [
        {
          "output_type": "stream",
          "name": "stdout",
          "text": [
            "Набор символов, последовательности разделить запятыми: asdf,sss,d,d\n",
            "3\n"
          ]
        }
      ]
    }
  ]
}