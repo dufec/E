{
  "nbformat": 4,
  "nbformat_minor": 0,
  "metadata": {
    "colab": {
      "provenance": [],
      "authorship_tag": "ABX9TyNqHPPF8h1jBl/SbWq517x7",
      "include_colab_link": true
    },
    "kernelspec": {
      "name": "python3",
      "display_name": "Python 3"
    },
    "language_info": {
      "name": "python"
    }
  },
  "cells": [
    {
      "cell_type": "markdown",
      "metadata": {
        "id": "view-in-github",
        "colab_type": "text"
      },
      "source": [
        "<a href=\"https://colab.research.google.com/github/dufec/E/blob/main/%D0%9D%D0%B5%D0%B4%D0%B5%D0%BB%D1%8F3_%D0%92%D0%B8%D0%BA%D1%83%D0%BB%D0%BE%D0%B2%D0%A1%D0%9F.ipynb\" target=\"_parent\"><img src=\"https://colab.research.google.com/assets/colab-badge.svg\" alt=\"Open In Colab\"/></a>"
      ]
    },
    {
      "cell_type": "markdown",
      "source": [
        "Задача 1"
      ],
      "metadata": {
        "id": "e8I-r2IT1AiI"
      }
    },
    {
      "cell_type": "code",
      "execution_count": 10,
      "metadata": {
        "colab": {
          "base_uri": "https://localhost:8080/"
        },
        "id": "SL3Qlab20-aC",
        "outputId": "4c696abe-1632-4c50-dc3f-6405a80ca384"
      },
      "outputs": [
        {
          "output_type": "stream",
          "name": "stdout",
          "text": [
            "Строка а: Привет, мир, пока\n",
            "Подстрока b: Мир\n",
            "8\n",
            "мир\n"
          ]
        }
      ],
      "source": [
        "A = str(input(\"Строка а: \"))\n",
        "B = str(input(\"Подстрока b: \"))\n",
        "a = A.lower()\n",
        "b = B.lower()\n",
        "print(a.find(b))\n",
        "print(b)"
      ]
    },
    {
      "cell_type": "markdown",
      "source": [
        "Задача 2"
      ],
      "metadata": {
        "id": "AUOKcTOE5-mg"
      }
    },
    {
      "cell_type": "code",
      "source": [
        "a = input('Введите строку, отделяя слова запятыми: ').split(\",\")\n",
        "match (len(a)):\n",
        "  case (1):\n",
        "    print(len(a[0]))\n",
        "  case (2):\n",
        "    print(len(a[0]),len(a[1]),sep=\",\")\n",
        "  case (3):\n",
        "    print(len(a[0]),len(a[1]),len(a[2]),sep=\",\")\n",
        "  case (4):\n",
        "    print(len(a[0]),len(a[1]),len(a[2]),len(a[3]),sep=\",\")"
      ],
      "metadata": {
        "colab": {
          "base_uri": "https://localhost:8080/"
        },
        "id": "Y3UxtXCL5_2_",
        "outputId": "aa7cd48f-eea4-420f-bd88-683e1a568b8e"
      },
      "execution_count": 23,
      "outputs": [
        {
          "output_type": "stream",
          "name": "stdout",
          "text": [
            "Введите строку: вжух,пон\n",
            "4,3\n"
          ]
        }
      ]
    },
    {
      "cell_type": "markdown",
      "source": [
        "Задача 3"
      ],
      "metadata": {
        "id": "yXUXgjFhEDzS"
      }
    },
    {
      "cell_type": "code",
      "source": [
        "stroka = str(input(\"Введите строку: \"))\n",
        "n = int(input(\"Массив слов с первого элемента до элемента: \"))\n",
        "m = int(input(\"Массив слов с ... элемента до конца строки \"))\n",
        "a = (stroka[0:n-1:1])\n",
        "b = (stroka[m::1])\n",
        "print(a.replace(\",\",\"\"))\n",
        "print(b.replace(\",\",\"\"))\n",
        "\n"
      ],
      "metadata": {
        "colab": {
          "base_uri": "https://localhost:8080/"
        },
        "id": "fpzgrrPcEE-h",
        "outputId": "7003229c-e195-4299-db30-c12a28b21ba7"
      },
      "execution_count": 50,
      "outputs": [
        {
          "output_type": "stream",
          "name": "stdout",
          "text": [
            "Введите строку: Привет, мир\n",
            "Массив слов с первого элемента до элемента: 8\n",
            "Массив слов с ... элемента до конца строки 5\n",
            "Привет\n",
            "т мир\n"
          ]
        }
      ]
    }
  ]
}