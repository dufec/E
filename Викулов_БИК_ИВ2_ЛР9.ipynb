{
  "nbformat": 4,
  "nbformat_minor": 0,
  "metadata": {
    "colab": {
      "provenance": [],
      "authorship_tag": "ABX9TyODyPA3OTAj2Q6rGaAwlODv",
      "include_colab_link": true
    },
    "kernelspec": {
      "name": "python3",
      "display_name": "Python 3"
    },
    "language_info": {
      "name": "python"
    }
  },
  "cells": [
    {
      "cell_type": "markdown",
      "metadata": {
        "id": "view-in-github",
        "colab_type": "text"
      },
      "source": [
        "<a href=\"https://colab.research.google.com/github/dufec/E/blob/main/%D0%92%D0%B8%D0%BA%D1%83%D0%BB%D0%BE%D0%B2_%D0%91%D0%98%D0%9A_%D0%98%D0%922_%D0%9B%D0%A09.ipynb\" target=\"_parent\"><img src=\"https://colab.research.google.com/assets/colab-badge.svg\" alt=\"Open In Colab\"/></a>"
      ]
    },
    {
      "cell_type": "markdown",
      "source": [
        "Задание 1"
      ],
      "metadata": {
        "id": "AGjR0LotutM3"
      }
    },
    {
      "cell_type": "code",
      "execution_count": null,
      "metadata": {
        "colab": {
          "base_uri": "https://localhost:8080/"
        },
        "id": "nwQjW7_UfD3-",
        "outputId": "e9cb02b7-4267-45b9-8929-a3f316bf3bef"
      },
      "outputs": [
        {
          "output_type": "stream",
          "name": "stdout",
          "text": [
            "Введите числа: 1\n",
            "Введите числа: 1\n",
            "Введите числа: 2\n",
            "Введите числа: 3\n",
            "Введите числа: 0\n",
            "{1: 2, 2: 1, 3: 1}\n",
            "2\n",
            "3\n"
          ]
        }
      ],
      "source": [
        "diction = {}\n",
        "while True:\n",
        " a = int(input(\"Введите числа: \"))\n",
        " if a == 0:\n",
        "  break\n",
        " b = 1\n",
        " for i in diction:\n",
        "  if a == i:\n",
        "    b += 1\n",
        " diction[a] = b\n",
        "print(diction)\n",
        "for k, v in diction.items():\n",
        "  if v == 1:\n",
        "    print(k)"
      ]
    },
    {
      "cell_type": "markdown",
      "source": [
        "Задание 2"
      ],
      "metadata": {
        "id": "q0a_Xhfhuyq_"
      }
    },
    {
      "cell_type": "code",
      "source": [
        "diction = {}\n",
        "while True:\n",
        " a = input(\"Введите 'add' чтобы добавить или 'who' чтобы узнать: \")\n",
        " if a == \"add\":\n",
        "  a = input(\"Введите имя: \")\n",
        "  b = input(\"Введите номер: \")\n",
        "  diction[a] = b\n",
        "  print(\"Добавлена запись\", a, ':', b)\n",
        " elif a == \"who\":\n",
        "  a = input(\"Введите имя: \")\n",
        "  print(dict.get[diction(a)])"
      ],
      "metadata": {
        "colab": {
          "base_uri": "https://localhost:8080/"
        },
        "id": "ruAPT2qsuyFJ",
        "outputId": "b124675a-de24-4356-9586-4b0dd2787748"
      },
      "execution_count": null,
      "outputs": [
        {
          "output_type": "stream",
          "name": "stdout",
          "text": [
            "Введите 'add' чтобы добавить или 'who' чтобы узнать: add\n",
            "Введите имя: Ll\n",
            "Введите номер: 1234\n",
            "Добавлена запись Ll : 1234\n"
          ]
        }
      ]
    }
  ]
}