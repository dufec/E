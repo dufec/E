{
  "nbformat": 4,
  "nbformat_minor": 0,
  "metadata": {
    "colab": {
      "provenance": [],
      "authorship_tag": "ABX9TyMeRB4w66xvzwE9Gfmu2j0k",
      "include_colab_link": true
    },
    "kernelspec": {
      "name": "python3",
      "display_name": "Python 3"
    },
    "language_info": {
      "name": "python"
    }
  },
  "cells": [
    {
      "cell_type": "markdown",
      "metadata": {
        "id": "view-in-github",
        "colab_type": "text"
      },
      "source": [
        "<a href=\"https://colab.research.google.com/github/dufec/E/blob/main/%D0%91%D0%98%D0%9A_24_%D0%98%D0%92_%D0%92%D0%B8%D0%BA%D1%83%D0%BB%D0%BE%D0%B2_%D0%9B%D0%A08.ipynb\" target=\"_parent\"><img src=\"https://colab.research.google.com/assets/colab-badge.svg\" alt=\"Open In Colab\"/></a>"
      ]
    },
    {
      "cell_type": "markdown",
      "source": [
        "Задание 1"
      ],
      "metadata": {
        "id": "s4jG31cpbKbr"
      }
    },
    {
      "cell_type": "code",
      "execution_count": 11,
      "metadata": {
        "colab": {
          "base_uri": "https://localhost:8080/"
        },
        "id": "MWw4mzllZwWa",
        "outputId": "2ad90ddd-6b91-4ca5-88b8-85b590c02de5"
      },
      "outputs": [
        {
          "output_type": "stream",
          "name": "stdout",
          "text": [
            "Введите число строк и столбцов: 3\n",
            "[1, 2, 3]\n",
            "[0, 0, 0]\n",
            "[0, 0, 0]\n"
          ]
        }
      ],
      "source": [
        "def create_matrix(p):\n",
        "  num = 1\n",
        "  matrix = [ [0 for _ in range(p)]  for _ in range(p)]\n",
        "\n",
        "  for i in range(p):\n",
        "    for j in range(p):\n",
        "      matrix[i][j] = num\n",
        "      num += 1\n",
        "\n",
        "    return matrix\n",
        "p = int(input(\"Введите число строк и столбцов: \"))\n",
        "result_matrix = create_matrix(p)\n",
        "\n",
        "for row in result_matrix:\n",
        "  print(row)\n",
        "\n"
      ]
    },
    {
      "cell_type": "markdown",
      "source": [
        "# Новый раздел"
      ],
      "metadata": {
        "id": "PS3hh87knNNy"
      }
    }
  ]
}