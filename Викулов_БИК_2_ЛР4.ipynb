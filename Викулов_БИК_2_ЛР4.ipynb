{
  "nbformat": 4,
  "nbformat_minor": 0,
  "metadata": {
    "colab": {
      "provenance": [],
      "authorship_tag": "ABX9TyNkA6d83wbP1dexF1CYEE5g",
      "include_colab_link": true
    },
    "kernelspec": {
      "name": "python3",
      "display_name": "Python 3"
    },
    "language_info": {
      "name": "python"
    }
  },
  "cells": [
    {
      "cell_type": "markdown",
      "metadata": {
        "id": "view-in-github",
        "colab_type": "text"
      },
      "source": [
        "<a href=\"https://colab.research.google.com/github/dufec/E/blob/main/%D0%92%D0%B8%D0%BA%D1%83%D0%BB%D0%BE%D0%B2_%D0%91%D0%98%D0%9A_2_%D0%9B%D0%A04.ipynb\" target=\"_parent\"><img src=\"https://colab.research.google.com/assets/colab-badge.svg\" alt=\"Open In Colab\"/></a>"
      ]
    },
    {
      "cell_type": "markdown",
      "source": [
        "Задание 1"
      ],
      "metadata": {
        "id": "ZMbGyyTcN_q3"
      }
    },
    {
      "cell_type": "code",
      "execution_count": null,
      "metadata": {
        "colab": {
          "base_uri": "https://localhost:8080/"
        },
        "id": "LjCMcnp9LTx0",
        "outputId": "01bf060e-0e30-43fc-8733-1f22382ddbac"
      },
      "outputs": [
        {
          "output_type": "stream",
          "name": "stdout",
          "text": [
            "404\n",
            "Ошибка 404\n"
          ]
        }
      ],
      "source": [
        "a = input()\n",
        "match (a):\n",
        "  case \"400\":\n",
        "    print(\"Bad Request\")\n",
        "  case \"401\":\n",
        "    print(\"Unauthorized\")\n",
        "  case \"402\":\n",
        "    print(\"Payment Required\")\n",
        "  case \"403\":\n",
        "    print(\"Forbidden\")\n",
        "  case \"404\":\n",
        "    print(\"Not Found\")\n",
        "  case \"405\":\n",
        "    print(\"Method Not Allowed\")"
      ]
    },
    {
      "cell_type": "markdown",
      "source": [
        "Задание 2"
      ],
      "metadata": {
        "id": "Wur-4_TwOHGO"
      }
    },
    {
      "cell_type": "code",
      "source": [
        "X = int(input(\"X = \"))\n",
        "Y = int(input(\"Y = \"))\n",
        "if X > 0 and Y > 0:\n",
        "  print(\"1 четверть\")\n",
        "elif X < 0 and Y > 0:\n",
        "  print(\"2 четверть\")\n",
        "elif X < 0 and Y < 0:\n",
        "  print(\"3 четверть\")\n",
        "elif X > 0 and Y < 0:\n",
        "  print(\"4 четверть\")\n",
        "else:\n",
        "  print(\"Точка 0\")\n"
      ],
      "metadata": {
        "colab": {
          "base_uri": "https://localhost:8080/"
        },
        "id": "tAy0kSkmOKp0",
        "outputId": "e32747b1-b523-4ab2-e34a-2eed50d9f6aa"
      },
      "execution_count": null,
      "outputs": [
        {
          "output_type": "stream",
          "name": "stdout",
          "text": [
            "X = 3\n",
            "Y = 4\n",
            "1 четверть\n"
          ]
        }
      ]
    },
    {
      "cell_type": "markdown",
      "source": [
        "Задание 3"
      ],
      "metadata": {
        "id": "tp-xlnJZQLq9"
      }
    },
    {
      "cell_type": "code",
      "source": [
        "year = int(input(\"Текущий год: \"))\n",
        "if year % 4 == 0:\n",
        "  print(\"ДА\")\n",
        "elif year % 100 == 0 and year % 400 == 0:\n",
        "    print(\"ДА\")\n",
        "else:\n",
        "  print(\"НЕТ\")"
      ],
      "metadata": {
        "colab": {
          "base_uri": "https://localhost:8080/"
        },
        "id": "tmAmWRb_QNl-",
        "outputId": "dc88bb79-c24c-4609-8e95-da6370358841"
      },
      "execution_count": null,
      "outputs": [
        {
          "output_type": "stream",
          "name": "stdout",
          "text": [
            "Текущий год: 2000\n",
            "ДА\n"
          ]
        }
      ]
    },
    {
      "cell_type": "markdown",
      "source": [
        "Задание 4"
      ],
      "metadata": {
        "id": "R8CfWm0uTD0j"
      }
    },
    {
      "cell_type": "code",
      "source": [
        "a = int(input(\"a = \"))\n",
        "b = int(input(\"b = \"))\n",
        "print(((b != 0) and a/b) or (\"Деление невозможно\"))"
      ],
      "metadata": {
        "colab": {
          "base_uri": "https://localhost:8080/"
        },
        "id": "6RYYHwA-TFic",
        "outputId": "c4ab4cc1-75e8-47ef-ff29-c449776b194f"
      },
      "execution_count": null,
      "outputs": [
        {
          "output_type": "stream",
          "name": "stdout",
          "text": [
            "a = 4\n",
            "b = 0\n",
            "Деление невозможно\n"
          ]
        }
      ]
    }
  ]
}