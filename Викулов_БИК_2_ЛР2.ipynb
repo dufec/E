{
  "nbformat": 4,
  "nbformat_minor": 0,
  "metadata": {
    "colab": {
      "provenance": [],
      "authorship_tag": "ABX9TyMeCYAqpP+9rFgUepZAQEF7",
      "include_colab_link": true
    },
    "kernelspec": {
      "name": "python3",
      "display_name": "Python 3"
    },
    "language_info": {
      "name": "python"
    }
  },
  "cells": [
    {
      "cell_type": "markdown",
      "metadata": {
        "id": "view-in-github",
        "colab_type": "text"
      },
      "source": [
        "<a href=\"https://colab.research.google.com/github/dufec/E/blob/main/%D0%92%D0%B8%D0%BA%D1%83%D0%BB%D0%BE%D0%B2_%D0%91%D0%98%D0%9A_2_%D0%9B%D0%A02.ipynb\" target=\"_parent\"><img src=\"https://colab.research.google.com/assets/colab-badge.svg\" alt=\"Open In Colab\"/></a>"
      ]
    },
    {
      "cell_type": "code",
      "execution_count": 5,
      "metadata": {
        "colab": {
          "base_uri": "https://localhost:8080/"
        },
        "id": "V9Z0UyAjJn7t",
        "outputId": "f09d572d-065e-4e5f-ae77-a5143f38960c"
      },
      "outputs": [
        {
          "output_type": "stream",
          "name": "stdout",
          "text": [
            "10.0\n"
          ]
        }
      ],
      "source": [
        "a = 5\n",
        "b = 4\n",
        "S = a * b / 2\n",
        "print(S)"
      ]
    },
    {
      "cell_type": "code",
      "source": [
        "a = 243\n",
        "b = a % 10\n",
        "bx = a // 10\n",
        "c = bx % 10\n",
        "cx = bx // 10\n",
        "d = cx % 10\n",
        "\n",
        "print(d,c,b)"
      ],
      "metadata": {
        "colab": {
          "base_uri": "https://localhost:8080/"
        },
        "id": "aChwIkOGLT2m",
        "outputId": "c6c348f7-c8f1-4385-d8f2-7e5376a7087d"
      },
      "execution_count": 9,
      "outputs": [
        {
          "output_type": "stream",
          "name": "stdout",
          "text": [
            "2 4 3\n"
          ]
        }
      ]
    },
    {
      "cell_type": "code",
      "source": [
        "n = 70000\n",
        "h = n // 3600\n",
        "m = n // 60 % 60\n",
        "s = n % 60\n",
        "print(\"Сейчас\", h,\":\",m,\":\",s)"
      ],
      "metadata": {
        "colab": {
          "base_uri": "https://localhost:8080/"
        },
        "id": "DQJ78wkpNwS6",
        "outputId": "5e857e61-9006-48a8-d80c-e6827bcd182f"
      },
      "execution_count": 46,
      "outputs": [
        {
          "output_type": "stream",
          "name": "stdout",
          "text": [
            "Сейчас 19 : 26 : 40\n"
          ]
        }
      ]
    }
  ]
}