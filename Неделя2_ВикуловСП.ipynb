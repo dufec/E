{
  "nbformat": 4,
  "nbformat_minor": 0,
  "metadata": {
    "colab": {
      "provenance": [],
      "authorship_tag": "ABX9TyOqXL+ljmnoXmuE9Ykjj2DH",
      "include_colab_link": true
    },
    "kernelspec": {
      "name": "python3",
      "display_name": "Python 3"
    },
    "language_info": {
      "name": "python"
    }
  },
  "cells": [
    {
      "cell_type": "markdown",
      "metadata": {
        "id": "view-in-github",
        "colab_type": "text"
      },
      "source": [
        "<a href=\"https://colab.research.google.com/github/dufec/E/blob/main/%D0%9D%D0%B5%D0%B4%D0%B5%D0%BB%D1%8F2_%D0%92%D0%B8%D0%BA%D1%83%D0%BB%D0%BE%D0%B2%D0%A1%D0%9F.ipynb\" target=\"_parent\"><img src=\"https://colab.research.google.com/assets/colab-badge.svg\" alt=\"Open In Colab\"/></a>"
      ]
    },
    {
      "cell_type": "markdown",
      "source": [
        "Задача 1"
      ],
      "metadata": {
        "id": "8I8RGiXZkAqs"
      }
    },
    {
      "cell_type": "code",
      "execution_count": null,
      "metadata": {
        "colab": {
          "base_uri": "https://localhost:8080/"
        },
        "id": "ZyvsBE1Kj_gm",
        "outputId": "1fd5db56-845d-458f-c4e1-7bdaf76aef35"
      },
      "outputs": [
        {
          "output_type": "stream",
          "name": "stdout",
          "text": [
            "Катет а = 3\n",
            "Катет b = 4\n",
            "гипотенуза = 5.0\n"
          ]
        }
      ],
      "source": [
        "a = int(input(\"Катет а = \"))\n",
        "b = int(input(\"Катет b = \"))\n",
        "c = (a**2 + b**2)**0.5\n",
        "print(\"Гипотенуза =\",c)"
      ]
    },
    {
      "cell_type": "markdown",
      "source": [
        "Задача 2"
      ],
      "metadata": {
        "id": "oQ8o10Qdk2eL"
      }
    },
    {
      "cell_type": "code",
      "source": [
        "a = int(input(\"Введите число \"))\n",
        "print(\"The next number for the number \", str(a), \" is \", str(a + 1), \"\\nThe previous number for the number \", str(a), \" is \", str(a - 1))\n"
      ],
      "metadata": {
        "colab": {
          "base_uri": "https://localhost:8080/"
        },
        "id": "rcV7Jwr-k3zr",
        "outputId": "2cd341eb-3760-474b-e0af-16675d1a42ea"
      },
      "execution_count": null,
      "outputs": [
        {
          "output_type": "stream",
          "name": "stdout",
          "text": [
            "4\n",
            "The next number for the number  4  is  5 \n",
            "The previous number for the number  4  is  3\n"
          ]
        }
      ]
    },
    {
      "cell_type": "markdown",
      "source": [
        "Задача 3"
      ],
      "metadata": {
        "id": "ndXY9jYkmxVE"
      }
    },
    {
      "cell_type": "code",
      "source": [
        "x = int(input(\"Введите число \"))\n",
        "if x % 10 == x // 1000 and x // 10 % 10 == x // 100 % 10:\n",
        "  print('1')\n",
        "else:\n",
        "  print(x)"
      ],
      "metadata": {
        "colab": {
          "base_uri": "https://localhost:8080/"
        },
        "id": "LjLTb8vTmzRc",
        "outputId": "f80ed4c2-a230-4b55-b81d-8238d3adc86b"
      },
      "execution_count": null,
      "outputs": [
        {
          "output_type": "stream",
          "name": "stdout",
          "text": [
            "Введите число 3434\n",
            "3434\n"
          ]
        }
      ]
    },
    {
      "cell_type": "markdown",
      "source": [
        "Задача 4"
      ],
      "metadata": {
        "id": "3-7Y_iXBscQq"
      }
    },
    {
      "cell_type": "code",
      "source": [
        "h = int(input(\"h = \"))\n",
        "a = int(input(\"a = \"))\n",
        "b = int(input(\"b = \"))\n",
        "print(1 + (h - a) // (a - b))"
      ],
      "metadata": {
        "colab": {
          "base_uri": "https://localhost:8080/"
        },
        "id": "1XzBqhS_sdxC",
        "outputId": "f8931333-701b-40c6-df7d-b2e6fade5871"
      },
      "execution_count": 23,
      "outputs": [
        {
          "output_type": "stream",
          "name": "stdout",
          "text": [
            "h = 10\n",
            "a = 2\n",
            "b = 1\n",
            "9\n"
          ]
        }
      ]
    },
    {
      "cell_type": "markdown",
      "source": [
        "Задача 5"
      ],
      "metadata": {
        "id": "PCOK8RzMs3sC"
      }
    },
    {
      "cell_type": "code",
      "source": [
        "n = int(input(\"С начала дня прошло ... секунд \"))\n",
        "h = (n // 3600) % 24\n",
        "n = n % 3600\n",
        "m = (n // 60)\n",
        "if m < 10:\n",
        "    m = \"0\" + str(m)\n",
        "s = n % 60\n",
        "if s < 10:\n",
        "    s = \"0\" + str(s)\n",
        "\n",
        "print(h, m, s, sep=':')"
      ],
      "metadata": {
        "colab": {
          "base_uri": "https://localhost:8080/"
        },
        "id": "g9C0bnhZs40i",
        "outputId": "6201c78f-bc4d-47fa-f856-5defa8af0223"
      },
      "execution_count": 26,
      "outputs": [
        {
          "output_type": "stream",
          "name": "stdout",
          "text": [
            "С начала дня прошло ... секунд230\n",
            "0:03:50\n"
          ]
        }
      ]
    },
    {
      "cell_type": "markdown",
      "source": [
        "Задача 6"
      ],
      "metadata": {
        "id": "li_bW6GHuHUK"
      }
    },
    {
      "cell_type": "code",
      "source": [
        "t1=list(map(int,input(\"Введите часы минут и секунды первого момента времени через пробел: \").split(' ')))\n",
        "t2=list(map(int,input(\"Введите часы минут и секунды второго момента времени через пробел: \").split(' ')))\n",
        "s1=t1[0]*3600+t1[1]*60+t1[2]\n",
        "s2=t2[0]*3600+t2[1]*60+t2[2]\n",
        "a = s2 - s1\n",
        "print(a)"
      ],
      "metadata": {
        "colab": {
          "base_uri": "https://localhost:8080/"
        },
        "id": "hTT-xEBAuIvK",
        "outputId": "62ddd77d-be0c-4eda-9d95-0c9975527f66"
      },
      "execution_count": 33,
      "outputs": [
        {
          "output_type": "stream",
          "name": "stdout",
          "text": [
            "20 30 40\n",
            "20 31 40\n",
            "60\n"
          ]
        }
      ]
    },
    {
      "cell_type": "markdown",
      "source": [
        "Задача 7"
      ],
      "metadata": {
        "id": "uhABuuPdwSnZ"
      }
    },
    {
      "cell_type": "code",
      "source": [
        "a = int(input(\"a = \"))\n",
        "b = int(input(\"b = \"))\n",
        "a += b\n",
        "b = a - b\n",
        "a = a - b\n",
        "print(\"a =\",a,\"b =\",b)"
      ],
      "metadata": {
        "colab": {
          "base_uri": "https://localhost:8080/"
        },
        "id": "Ukcp5D1dwZ7Z",
        "outputId": "08bb0786-30a2-49f3-f8f8-284b202414ff"
      },
      "execution_count": 37,
      "outputs": [
        {
          "output_type": "stream",
          "name": "stdout",
          "text": [
            "a = 2\n",
            "b = 3\n",
            "a = 3 b = 2\n"
          ]
        }
      ]
    },
    {
      "cell_type": "markdown",
      "source": [
        "Задача 8"
      ],
      "metadata": {
        "id": "ML_n1m6Qxlv6"
      }
    },
    {
      "cell_type": "code",
      "source": [
        "n = int(input(\"Кол-во школьников: \"))\n",
        "k = int(input(\"Кол-во яблок \"))\n",
        "print(-k % n)"
      ],
      "metadata": {
        "colab": {
          "base_uri": "https://localhost:8080/"
        },
        "id": "imCN-g8ZxnWp",
        "outputId": "3fc40d34-679f-457d-eb9c-057c97b6914a"
      },
      "execution_count": 40,
      "outputs": [
        {
          "output_type": "stream",
          "name": "stdout",
          "text": [
            "Кол-во школьников: 20\n",
            "Кол-во яблок 25\n",
            "15\n"
          ]
        }
      ]
    },
    {
      "cell_type": "markdown",
      "source": [
        "Задача 9"
      ],
      "metadata": {
        "id": "R9U9bqhoyVB5"
      }
    },
    {
      "cell_type": "code",
      "source": [
        "a = int(input(\"Введите трехзначное число: \"))\n",
        "a3 = a % 10\n",
        "a2 = a // 10 % 10\n",
        "a1 = a // 100\n",
        "sum = a1 + a2 + a3\n",
        "print(\"Сумма его чисел =\",sum)"
      ],
      "metadata": {
        "colab": {
          "base_uri": "https://localhost:8080/"
        },
        "id": "X9Y_1IjLyWJo",
        "outputId": "60ac97f4-61f3-48bb-813d-f1be97186111"
      },
      "execution_count": 43,
      "outputs": [
        {
          "output_type": "stream",
          "name": "stdout",
          "text": [
            "Введите трехзначное число: 234\n",
            "Сумма его чисел = 9\n"
          ]
        }
      ]
    }
  ]
}